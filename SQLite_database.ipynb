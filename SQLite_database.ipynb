{
  "nbformat": 4,
  "nbformat_minor": 0,
  "metadata": {
    "colab": {
      "provenance": []
    },
    "kernelspec": {
      "name": "python3",
      "display_name": "Python 3"
    },
    "language_info": {
      "name": "python"
    }
  },
  "cells": [
    {
      "cell_type": "markdown",
      "source": [
        "# **Get Basic Sales Summary from a Tiny SQLite Database using Python**"
      ],
      "metadata": {
        "id": "wpCS4JVuEI0V"
      }
    },
    {
      "cell_type": "markdown",
      "source": [
        "**Step 1: Create/Load the Database**\n",
        "\n",
        "This creates a small dataset (5 products) with quantity and price."
      ],
      "metadata": {
        "id": "pHUFA4uQFWmt"
      }
    },
    {
      "cell_type": "code",
      "source": [
        "import sqlite3\n",
        "\n",
        "# Connect to the database (creates it if it doesn't exist)\n",
        "conn = sqlite3.connect('sales_data.db')\n",
        "cursor = conn.cursor()\n",
        "\n",
        "# Create the 'sales' table\n",
        "cursor.execute('''\n",
        "CREATE TABLE IF NOT EXISTS sales (\n",
        "    product TEXT,\n",
        "    quantity INTEGER,\n",
        "    price REAL\n",
        ")\n",
        "''')"
      ],
      "metadata": {
        "colab": {
          "base_uri": "https://localhost:8080/"
        },
        "id": "jb-WKTLSEMsp",
        "outputId": "879f626c-42c0-479a-9ad1-858b4c9970a1"
      },
      "execution_count": 57,
      "outputs": [
        {
          "output_type": "execute_result",
          "data": {
            "text/plain": [
              "<sqlite3.Cursor at 0x7dd52b4b88c0>"
            ]
          },
          "metadata": {},
          "execution_count": 57
        }
      ]
    },
    {
      "cell_type": "code",
      "source": [
        "# Insert sample data\n",
        "cursor.executemany('''\n",
        "INSERT INTO sales (product, quantity, price) VALUES (?, ?, ?)\n",
        "''', [\n",
        "    ('Laptop', 5, 800),\n",
        "    ('Smartphone', 10, 500),\n",
        "    ('Tablet', 7, 300),\n",
        "    ('Headphones', 15, 50),\n",
        "    ('Smartwatch', 8, 200)\n",
        "])\n",
        "\n",
        "conn.commit()\n",
        "conn.close()"
      ],
      "metadata": {
        "id": "RpqJEAH5Eky9"
      },
      "execution_count": 58,
      "outputs": []
    },
    {
      "cell_type": "markdown",
      "source": [
        "**Step 2 – Connect Python to SQLite**"
      ],
      "metadata": {
        "id": "7sCcnZH6FTGe"
      }
    },
    {
      "cell_type": "code",
      "source": [
        "import sqlite3\n",
        "\n",
        "# Connect to the database\n",
        "conn = sqlite3.connect('sales_data.db')"
      ],
      "metadata": {
        "id": "b1cyULewFJX2"
      },
      "execution_count": 59,
      "outputs": []
    },
    {
      "cell_type": "markdown",
      "source": [
        "**Step 3 – Write and Run the SQL Query**\n",
        "\n",
        "This query sums up quantity and revenue grouped by product."
      ],
      "metadata": {
        "id": "KF0fwer8FmK4"
      }
    },
    {
      "cell_type": "code",
      "source": [
        "query = '''\n",
        "SELECT\n",
        "    product,\n",
        "    SUM(quantity) AS total_qty,\n",
        "    SUM(quantity * price) AS revenue\n",
        "FROM sales\n",
        "GROUP BY product\n",
        "'''"
      ],
      "metadata": {
        "id": "nj7DEb37Fouv"
      },
      "execution_count": 60,
      "outputs": []
    },
    {
      "cell_type": "markdown",
      "source": [
        "**Step 4 – Load Data into Pandas**"
      ],
      "metadata": {
        "id": "HEhYMexHGMrq"
      }
    },
    {
      "cell_type": "code",
      "source": [
        "# query = \"SELECT * FROM sales;\"\n",
        "# df = pd.read_sql_query(query, conn)\n",
        "# print(df)"
      ],
      "metadata": {
        "id": "harWDUbORxvn"
      },
      "execution_count": 45,
      "outputs": []
    },
    {
      "cell_type": "code",
      "source": [
        "import pandas as pd\n",
        "\n",
        "# Load query results into a DataFrame\n",
        "df = pd.read_sql_query(query, conn)\n",
        "\n",
        "# Show the data\n",
        "print(df)"
      ],
      "metadata": {
        "colab": {
          "base_uri": "https://localhost:8080/"
        },
        "id": "SavSbOP-GQwj",
        "outputId": "884f3b64-9d66-47d7-98a6-9a4f5d8001d7"
      },
      "execution_count": 62,
      "outputs": [
        {
          "output_type": "stream",
          "name": "stdout",
          "text": [
            "      product  total_qty  revenue\n",
            "0  Headphones        135   6750.0\n",
            "1      Laptop         45  36000.0\n",
            "2  Smartphone         90  45000.0\n",
            "3  Smartwatch         72  14400.0\n",
            "4      Tablet         63  18900.0\n"
          ]
        }
      ]
    },
    {
      "cell_type": "markdown",
      "source": [
        "**Step 5 – Visualize with Matplotlib**"
      ],
      "metadata": {
        "id": "_dO5JKtzSBC6"
      }
    },
    {
      "cell_type": "code",
      "source": [
        "import matplotlib.pyplot as plt\n",
        "\n",
        "# Plot a bar chart of revenue by product\n",
        "df.plot(kind='bar', x='product', y='revenue', color='skyblue')\n",
        "\n",
        "plt.title('Total Revenue by Product')\n",
        "plt.xlabel('Product')\n",
        "plt.ylabel('Revenue')\n",
        "plt.xticks(rotation=45)\n",
        "plt.tight_layout()\n",
        "plt.show()"
      ],
      "metadata": {
        "colab": {
          "base_uri": "https://localhost:8080/",
          "height": 487
        },
        "id": "oErFhTCkSAeB",
        "outputId": "bf303e7f-8bc3-4455-e7d3-28ba202be4a4"
      },
      "execution_count": 63,
      "outputs": [
        {
          "output_type": "display_data",
          "data": {
            "text/plain": [
              "<Figure size 640x480 with 1 Axes>"
            ],
            "image/png": "[encoded data removed]"
          },
          "metadata": {}
        }
      ]
    }
  ]
}